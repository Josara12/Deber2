{
 "cells": [
  {
   "cell_type": "markdown",
   "id": "edd25a4c-464b-4b0a-93e1-1a6b9f4c2b8e",
   "metadata": {
    "tags": []
   },
   "source": [
    "# Map of Scince\n",
    "#### Nombre: Sarai Josabeth Gaibor Cobos "
   ]
  },
  {
   "cell_type": "code",
   "execution_count": 2,
   "id": "430baa50-f568-44f3-a8cc-4e9cc4973625",
   "metadata": {},
   "outputs": [],
   "source": [
    "import re \n",
    "import csv"
   ]
  },
  {
   "cell_type": "code",
   "execution_count": 3,
   "id": "01587bc0-9c10-4fd1-93f6-26c32d654e44",
   "metadata": {},
   "outputs": [],
   "source": [
    "with open('Data/pubmed_antimicrob.txt', encoding=\"utf=8\") as f:\n",
    "    my_text = f.read()"
   ]
  },
  {
   "cell_type": "code",
   "execution_count": 4,
   "id": "43468646-501f-4d8b-9fe1-10dca3c8c02c",
   "metadata": {},
   "outputs": [
    {
     "data": {
      "text/plain": [
       "41825720"
      ]
     },
     "execution_count": 4,
     "metadata": {},
     "output_type": "execute_result"
    }
   ],
   "source": [
    "len(my_text)"
   ]
  },
  {
   "cell_type": "code",
   "execution_count": 5,
   "id": "673cfa55-b4c0-4364-83b5-c1d7c9fbbe89",
   "metadata": {},
   "outputs": [
    {
     "name": "stdout",
     "output_type": "stream",
     "text": [
      "PMID- 32653070\n",
      "OWN - NLM\n",
      "STAT- MEDLINE\n",
      "DCOM- 20201013\n",
      "LR  - 20210708\n",
      "IS  - 1474-4457 (Electronic)\n",
      "IS  - 1473-3099 (Linking)\n",
      "VI  - 20\n",
      "IP  - 9\n",
      "DP  - 2020 Sep\n",
      "TI  - The value of antimicrobial peptides in the age of resistance.\n",
      "PG  - e216-e230\n",
      "LID - S1473-3099(20)30327-3 [pii]\n",
      "LID - 10.1016/S1473-3099(20)30327-3 [doi]\n",
      "AB  - Accelerating growth and global expansion of antimicrobial resistance has deepened \n",
      "      the need for discovery of novel antimicrobial agents. Antimicrobial peptides have \n",
      "      clear advantages over conventional antibiotics which include slower emergence of \n",
      "      resistance, broad-spectrum antibiofilm activity, and the ability to favourably \n",
      "      modulate the host immune response. Broad bacterial susceptibility to antimicrobial \n",
      "      peptides offers an additional tool to expand knowledge about the evolution of \n",
      "      antimicrobial resistance. Structural and functional limitations, combined with a \n",
      "      stricter regulatory environment, have hampered the clinical translation of \n",
      "      antimicrobial peptides as potential therapeutic agents. Existing computational and \n",
      "      experimental tools attempt to ease the preclinical and clinical development of \n",
      "      antimicrobial peptides as novel therapeutics. This Review identifies the benefits, \n",
      "      challenges, and opportunities of using antimicrobial peptides against \n",
      "      multidrug-resistant pathogens, highlights advances in the deployment of novel \n",
      "      promising antimicrobial peptides, and underlines the needs and priorities in \n",
      "      designing focused development strategies taking into account the most advanced tools \n",
      "      available.\n",
      "CI  - Copyright © 2020 Elsevier Ltd. All rights reserved.\n",
      "FAU - Magana, Maria\n",
      "AU  - Magana M\n",
      "AD  - Department of Biopathology and Clinical Microbiology, Aeginition Hospital, Medical \n",
      "      School, National and Kapodistrian University of Athens, Athens, Greece.\n",
      "FAU - Pushpanathan, Muthuirulan\n",
      "AU  - Pushpanathan M\n",
      "AD  - Department of Human Evolutionary Biology, Harvard University, Cambridge, MA, USA.\n",
      "FAU - Santos, Ana L\n",
      "AU  - Santos AL\n",
      "AD  - Department of Chemistry, Rice University, Houston, TX, USA; Investigación Sanitaria \n",
      "      de las Islas Baleares, Palma, Spain.\n",
      "FAU - Leanse, Leon\n",
      "AU  - Leanse L\n",
      "AD  - Department of Dermatology, Harvard Medical School, Boston, MA, USA; Wellman Center \n",
      "      for Photomedicine, Massachusetts General Hospital, Boston, MA, USA.\n",
      "FAU - Fernandez, Michael\n",
      "AU  - Fernandez M\n",
      "AD  - Department of Urologic Sciences, Vancouver Prostate Centre, University of British \n",
      "      Columbia, Vancouver, BC, Canada.\n",
      "FAU - Ioannidis, Anastasios\n",
      "AU  - Ioannidis A\n",
      "AD  - Department of Nursing, University of Peloponnese, Sparta, Greece.\n",
      "FAU - Giulianotti, Marc A\n",
      "AU  - Giulianotti MA\n",
      "AD  - Torrey Pines Institute for Molecular Studies, Port St Lucie, FL, USA.\n",
      "FAU - Apidianakis, Yiorgos\n",
      "AU  - Apidianakis Y\n",
      "AD  - Department of Biological Sciences, University of Cyprus, Nicosia, Cyprus.\n",
      "FAU - Bradfute, Steven\n",
      "AU  - Bradfute S\n",
      "AD  - Department \n"
     ]
    }
   ],
   "source": [
    "print(my_text [:3000])"
   ]
  },
  {
   "cell_type": "code",
   "execution_count": 6,
   "id": "a2c22a2a-853a-4e39-9736-b6e86629eaa8",
   "metadata": {},
   "outputs": [],
   "source": [
    "# # Como en mi archivo tiene saltos de línea ,utilizo el siguiente código\n",
    "my_text = re.sub(r'\\n\\s{6}', ' ', my_text) "
   ]
  },
  {
   "cell_type": "code",
   "execution_count": 7,
   "id": "0465c73e-875e-48ce-8d24-540faedaf662",
   "metadata": {},
   "outputs": [
    {
     "name": "stdout",
     "output_type": "stream",
     "text": [
      "PMID- 32653070\n",
      "OWN - NLM\n",
      "STAT- MEDLINE\n",
      "DCOM- 20201013\n",
      "LR  - 20210708\n",
      "IS  - 1474-4457 (Electronic)\n",
      "IS  - 1473-3099 (Linking)\n",
      "VI  - 20\n",
      "IP  - 9\n",
      "DP  - 2020 Sep\n",
      "TI  - The value of antimicrobial peptides in the age of resistance.\n",
      "PG  - e216-e230\n",
      "LID - S1473-3099(20)30327-3 [pii]\n",
      "LID - 10.1016/S1473-3099(20)30327-3 [doi]\n",
      "AB  - Accelerating growth and global expansion of antimicrobial resistance has deepened  the need for discovery of novel antimicrobial agents. Antimicrobial peptides have  clear advantages over conventional antibiotics which include slower emergence of  resistance, broad-spectrum antibiofilm activity, and the ability to favourably  modulate the host immune response. Broad bacterial susceptibility to antimicrobial  peptides offers an additional tool to expand knowledge about the e\n"
     ]
    }
   ],
   "source": [
    "#Verifico el cambio\n",
    "print(my_text[:800])"
   ]
  },
  {
   "cell_type": "code",
   "execution_count": 8,
   "id": "2654e7b0-3348-4179-b2a2-0bcadf02347f",
   "metadata": {},
   "outputs": [
    {
     "name": "stdout",
     "output_type": "stream",
     "text": [
      "51994\n"
     ]
    }
   ],
   "source": [
    "#Sinc contendrá mi ADs con correo electrónico\n",
    "sinc= re.findall(r'AD.*\\n',my_text) \n",
    "print (len(sinc))"
   ]
  },
  {
   "cell_type": "code",
   "execution_count": 9,
   "id": "d91bf95f-bfbd-4988-bc6f-6976e3444427",
   "metadata": {},
   "outputs": [
    {
     "name": "stdout",
     "output_type": "stream",
     "text": [
      "['AD  - MedStar Georgetown Transplant Institute, Georgetown University School of Medicine,  Washington, DC, USA.\\n', 'AD  - Freie Universität Berlin, Evolutionary Biology, Institut für Biologie,  Königin-Luise-Strasse 1-3, 14195 Berlin, Germany. jens.rolff@fu-berlin.de.\\n', 'AD  - Berlin-Brandenburg Institute of Advanced Biodiversity Research (BBIB), 14195 Berlin,  Germany.\\n', 'AD  - 1 Molecular Biology Research Center, Systems Biology and Poisoning Institute,  Baqiyatallah University of Medical Sciences , Tehran, Iran .\\n', 'AD  - 2 Department of Hepatitis and AIDS, Pasteur Institute of Iran , Tehran, Iran .\\n']\n"
     ]
    }
   ],
   "source": [
    "#Mis ADs contienen correro electronico\n",
    "print (sinc[25:30]) "
   ]
  },
  {
   "cell_type": "code",
   "execution_count": 10,
   "id": "dc758f85-5ae3-4120-805a-4920274831d2",
   "metadata": {},
   "outputs": [
    {
     "name": "stdout",
     "output_type": "stream",
     "text": [
      "['AD  - Department of Biomedical Sciences, University of Cagliari, 09042 Monserrato, CA,  Italy.\\n', 'AD  - Department of Biomolecular Sciences, University of Urbino Carlo Bo, 61029 Urbino,  PU, Italy.\\n', 'AD  - Department of Biomolecular Sciences, University of Urbino Carlo Bo, 61029 Urbino,  PU, Italy.\\n', 'AD  - Inflammatory Bowel Disease Center, Division of Digestive Diseases, David Geffen  School of Medicine, The University of California Los Angeles, Los Angeles, CA 90095,  USA.\\n', 'AD  - The Key Laboratory for Medical Tissue Engineering, College of Medical Engineering,  Jining Medical University, Jining 272000, Shandong, China.\\n', 'AD  - The Key Laboratory for Medical Tissue Engineering, College of Medical Engineering,  Jining Medical University, Jining 272000, Shandong, China.\\n', 'AD  - The Key Laboratory for Medical Tissue Engineering, College of Medical Engineering,  Jining Medical University, Jining 272000, Shandong, China.\\n', 'AD  - Centre of Excellence for Pharmaceutical Sciences (PHARMACEN), North-West University,  Potchefstroom 2520, South Africa..\\n', 'AD  - Centre of Excellence for Pharmaceutical Sciences (PHARMACEN), North-West University,  Potchefstroom 2520, South Africa..\\n', 'AD  - Centre of Excellence for Pharmaceutical Sciences (PHARMACEN), North-West University,  Potchefstroom 2520, South Africa..\\n', 'AD  - Centre of Excellence for Pharmaceutical Sciences (PHARMACEN), North-West University,  Potchefstroom 2520, South Africa..\\n', 'AD  - Departamento de Investigación en Microbiología, Instituto Nacional de Enfermedades  Respiratorias (INER), México.\\n', 'AD  - Division of Dermatology, Department of Medicine, University of California, San  Diego, and Veterans Administration San Diego Healthcare System, USA.\\n', 'AD  - Division of Gastroenterology and Hepatology, Stanford University School of Medicine,  Redwood City, CA 94063, United States..\\n', 'AD  - Department of Radiology, Molecular Imaging Program at Stanford , Stanford  University, Stanford , CA 94305, United States.\\n', 'AD  - Stanford University School of Medicine, Stanford University, Stanford, CA 94063,  United States.\\n', 'AD  - Stanford University School of Medicine, Stanford University, Stanford, CA 94063,  United States.\\n', 'AD  - Stanford University School of Medicine, Stanford University, Stanford, CA 94063,  United States.\\n', 'AD  - Division of Gastroenterology and Hepatology, Stanford University School of Medicine,  Redwood City, CA 94063, United States.\\n', 'AD  - Department of Biology, University of Padova, via U. Bassi 58/B, 35131 Padova, Italy.\\n', 'AD  - Department of Biology, University of Padova, via U. Bassi 58/B, 35131 Padova, Italy.\\n', 'AD  - Department of Biology, University of Padova, via U. Bassi 58/B, 35131 Padova, Italy.\\n', 'AD  - Institut Pasteur de la Guyane, 23 Avenue Pasteur, 97306 Cayenne, French Guiana,  France.\\n', 'AD  - Department of Biology, University of Padova, via U. Bassi 58/B, 35131 Padova, Italy.\\n', 'AD  - Centre National de la Recherche Scientifique (CNRS), Institut Necker Enfants  Malades, Institut National de la Santé et de la Recherche Médicale (INSERM),  Université de Paris, Paris, France.\\n', 'AD  - Centre National de la Recherche Scientifique (CNRS), Institut Necker Enfants  Malades, Institut National de la Santé et de la Recherche Médicale (INSERM),  Université de Paris, Paris, France.\\n', 'AD  - Mass Spectrometry Centre, QOPNA, Department of Chemistry, University of Aveiro,  3810-193, Aveiro, Portugal.\\n', 'AD  - Department of Microbiology, University of Kalyani, Kalyani, WB, India.\\n', 'AD  - Department of Microbiology, University of Kalyani, Kalyani, WB, India.\\n', 'AD  - Department of Microbiology, University of Kalyani, Kalyani, WB, India.\\n', 'AD  - Centro de Análises Bioquímicas e Proteômicas, Pós-graduação em Ciências Genômicas e  Biotecnologia, Universidade Católica de Brasília, Brasília, DF 70790-160, Brazil.\\n', 'AD  - Laboratório de RMN, Instituto de Química, Universidade Federal de Goiás, Goiânia, GO  74690-900, Brazil.\\n', 'AD  - Laboratório de RMN, Instituto de Química, Universidade Federal de Goiás, Goiânia, GO  74690-900, Brazil.\\n', 'AD  - S-Inova Biotech, Pós-graduação em Biotecnologia Universidade Católica Dom Bosco,  Campo Grande, MS 79117-900, Brazil.\\n', 'AD  - Centro de Análises Bioquímicas e Proteômicas, Pós-graduação em Ciências Genômicas e  Biotecnologia, Universidade Católica de Brasília, Brasília, DF 70790-160, Brazil.\\n', 'AD  - Pós-Graduação em Biologia Animal, Universidade de Brasília, Campus Darcy Ribeiro,  Brasília, DF 70910-900, Brazil.\\n', 'AD  - Centro de Análises Bioquímicas e Proteômicas, Pós-graduação em Ciências Genômicas e  Biotecnologia, Universidade Católica de Brasília, Brasília, DF 70790-160, Brazil .\\n', 'AD  - S-Inova Biotech, Pós-graduação em Biotecnologia Universidade Católica Dom Bosco,  Campo Grande, MS 79117-900, Brazil.\\n', 'AD  - Faculdade de Farmácia, Universidade Federal do Rio Grande do Sul, Porto Alegre,  Brazil.\\n', 'AD  - Faculdade de Farmácia, Universidade Federal do Rio Grande do Sul, Porto Alegre,  Brazil.\\n', 'AD  - Department of Conservative Dentistry and Periodontology, University Hospital, LMU  Munich, Goethestrasse 70, 80336, Munich, Germany. Electronic address: .\\n', 'AD  - Department of Conservative Dentistry and Periodontology, University Hospital, LMU  Munich, Goethestrasse 70, 80336, Munich, Germany.\\n', 'AD  - Department of Conservative Dentistry and Periodontology, University Hospital, LMU  Munich, Goethestrasse 70, 80336, Munich, Germany.\\n', 'AD  - Department of Conservative Dentistry and Periodontology, University Hospital, LMU  Munich, Goethestrasse 70, 80336, Munich, Germany.\\n', 'AD  - Medical Research Unit Zacatecas-IMSS, Zacatecas, Mexico.\\n', 'AD  - Medical Research Unit Zacatecas-IMSS, Zacatecas, Mexico.\\n', 'AD  - Department of Biotechnology and Biotechnology Research Center, School of Medicine,  Semnan University of Medical Sciences, Semnan, Iran.\\n', 'AD  - Infectious Diseases Research Center, Health Institute, Kermanshah University of  Medical Sciences, Kermanshah, Iran.\\n', 'AD  - Department of Biotechnology and Biotechnology Research Center, School of Medicine,  Semnan University of Medical Sciences, Semnan, Iran.\\n', 'AD  - Drug Design and Bioinformatics Unit, Department of Medical Biotechnology,  Biotechnology Research Center, Pasteur Institute of Iran, Tehran, Iran.\\n', 'AD  - Department of Biology, Faculty of Science, University of Split, 21000 Split,  Croatia.\\n', 'AD  - Laboratory for Aquaculture, Institute of Oceanography and Fisheries, 21000 Split,  Croatia.\\n', 'AD  - Department of Biology, Faculty of Science, University of Split, 21000 Split,  Croatia.\\n', 'AD  - Department of Life Sciences, University of Trieste, 34127 Trieste, Italy.\\n', 'AD  - Faculty of Pharmacy, PHENIKAA University, Yen Nghia, Ha Dong, Hanoi 12116, Viet Nam;  PHENIKAA Institute for Advanced Study (PIAS), PHENIKAA University, Hanoi 12116, Viet  Nam. Electronic address:.\\n', 'AD  - Faculty of Pharmacy, PHENIKAA University, Yen Nghia, Ha Dong, Hanoi 12116, Viet Nam;  PHENIKAA Institute for Advanced Study (PIAS), PHENIKAA University, Hanoi 12116, Viet  Nam. Electronic address:.\\n', 'AD  - Faculty of Pharmacy, PHENIKAA University, Yen Nghia, Ha Dong, Hanoi 12116, Viet Nam;  PHENIKAA Research and Technology Institute (PRATI), A&A Green Phoenix Group JSC,  No.167 Hoang Ngan, Trung Hoa, Cau Giay, Hanoi 11313, Viet Nam. Electronic address: .\\n', 'AD  - Emergency Medicine Department, University of Sao Paulo, Brazil. \\n', 'AD  - Department of Microbiology and Immunology, UC Davis School of Medicine, Davis, CA  95616, USA.\\n', 'AD  - National Center for Biodefense and Infectious Disease, School of Systems Biology,  George Mason University, Manassas, VA 20110, USA.\\n', 'AD  - National Center for Biodefense and Infectious Disease, School of Systems Biology,  George Mason University, Manassas, VA 20110, USA.\\n', 'AD  - United States Military Academy, West Point, NY 10996, USA.\\n', 'AD  - National Center for Biodefense and Infectious Disease, School of Systems Biology,  George Mason University, Manassas, VA 20110, USA.\\n', 'AD  - National Center for Biodefense and Infectious Disease, School of Systems Biology,  George Mason University, Manassas, VA 20110, USA..\\n', 'AD  - Radiopharmaceuticals Division, Anushaktinagar, Mumbai- 400094, India.\\n', 'AD  - Homi Bhabha National Institute, Anushaktinagar, Mumbai- 400094, India.\\n', 'AD  - Homi Bhabha National Institute, Anushaktinagar, Mumbai- 400094, India.\\n', 'AD  - Solid State Physics Division, Anushaktinagar, Mumbai- 400094, India.\\n', 'AD  - Homi Bhabha National Institute, Anushaktinagar, Mumbai- 400094, India.\\n', 'AD  - Radiation Biology & Health Sciences Division, Bhabha Atomic Research Centre (BARC),  Mumbai 400085, India.\\n', 'AD  - Radiopharmaceuticals Division, Anushaktinagar, Mumbai- 400094, India.\\n', 'AD  - Homi Bhabha National Institute, Anushaktinagar, Mumbai- 400094, India.\\n', 'AD  - The Bio21 Institute of Molecular Science and Biotechnology, Melbourne Dental School,  Centre for Oral Health Research, University of Melbourne, Melbourne, Victoria 3010,  Australia.\\n', 'AD  - Florey Institute of Neuroscience and Mental Health, University of Melbourne,  Melbourne, Victoria 3010, Australia.\\n', 'AD  - Department of Biochemistry & Pharmacology, University of Melbourne, Melbourne,  Victoria 3010, Australia.\\n', 'AD  - Florey Institute of Neuroscience and Mental Health, University of Melbourne,  Melbourne, Victoria 3010, Australia.\\n', 'AD  - Florey Institute of Neuroscience and Mental Health, University of Melbourne,  Melbourne, Victoria 3010, Australia.\\n', 'AD  - School of Chemistry, University of Melbourne, Melbourne, Victoria 3010, Australia.\\n', 'AD  - The Bio21 Institute of Molecular Science and Biotechnology, Melbourne Dental School,  Centre for Oral Health Research, University of Melbourne, Melbourne, Victoria 3010,  Australia.\\n', 'AD  - The Bio21 Institute of Molecular Science and Biotechnology, Melbourne Dental School,  Centre for Oral Health Research, University of Melbourne, Melbourne, Victoria 3010,  Australia.\\n', 'AD  - Department of Materials Science and Engineering, University of Illinois at  Urbana-Champaign, 1304 W Green Street, Urbana, IL 61801, United States; Beckman  Institute for Advanced Science and Technology, University of Illinois at  Urbana-Champaign, 405 N Mathews Ave, Urbana, IL 61801, United States.\\n', 'AD  - Department of Materials Science and Engineering, University of Illinois at  Urbana-Champaign, 1304 W Green Street, Urbana, IL 61801, United States.\\n', 'AD  - Department of Materials Science and Engineering, University of Illinois at  Urbana-Champaign, 1304 W Green Street, Urbana, IL 61801, United States.\\n', 'AD  - Department of Materials Science and Engineering, University of Illinois at  Urbana-Champaign, 1304 W Green Street, Urbana, IL 61801, United States.\\n', 'AD  - Department of Materials Science and Engineering, University of Illinois at  Urbana-Champaign, 1304 W Green Street, Urbana, IL 61801, United States; Beckman  Institute for Advanced Science and Technology, University of Illinois at  Urbana-Champaign, 405 N Mathews Ave, Urbana, IL 61801, United States; Department of  Bioegineering, University of Illinois at Urbana-Champaign, 1406 W Green Street,  Urbana, IL 61801, United States; Department of Chemistry, University of Illinois at  Urbana-Champaign, 505 S Mathews Ave, Urbana, IL 61801, United States. Electronic  address:.\\n', 'AD  - CNRS, Université de Montpellier, Interactions Hôtes-Pathogènes-Environnements (IHPE,  UMR5244), Place Eugène Bataillon, 34090 Montpellier cedex, France Ifremer,  Université de Montpellier, Interactions Hôtes-Pathogènes-Environnements (IHPE,  UMR5244), Place Eugène Bataillon, 34090 Montpellier cedex, France UPVD, Université  de Montpellier, Interactions Hôtes-Pathogènes-Environnements (IHPE, UMR5244), Place  Eugène Bataillon, 34090 Montpellier cedex, France Université de Montpellier,  Interactions Hôtes-Pathogènes-Environnements (IHPE, UMR5244), Place Eugène  Bataillon, 34090 Montpellier cedex, France.\\n', 'AD  - Laboratory of Immunology Applied to Aquaculture, Department of Cell Biology,  Embryology and Genetics, Federal University of Santa Catarina, 88040-900  Florianópolis, Santa Catarina, Brazil.\\n', 'AD  - Laboratorio de Genética e Inmunología Molecular, Instituto de Biología, Pontificia  Universidad Católica de Valparaíso, Avenida Universidad 330, 2373223 Valparaíso,  Chile.\\n', 'AD  - Laboratory of Immunology Applied to Aquaculture, Department of Cell Biology,  Embryology and Genetics, Federal University of Santa Catarina, 88040-900  Florianópolis, Santa Catarina, Brazil.\\n', 'AD  - Ifremer, UMR 241 EIO, LabexCorail, BP 7004, 98719 Taravao, Tahiti, French Polynesia.\\n', 'AD  - CNRS, Université de Montpellier, Interactions Hôtes-Pathogènes-Environnements (IHPE,  UMR5244), Place Eugène Bataillon, 34090 Montpellier cedex, France Ifremer,  Université de Montpellier, Interactions Hôtes-Pathogènes-Environnements (IHPE,  UMR5244), Place Eugène Bataillon, 34090 Montpellier cedex, France UPVD, Université  de Montpellier, Interactions Hôtes-Pathogènes-Environnements (IHPE, UMR5244), Place  Eugène Bataillon, 34090 Montpellier cedex, France Université de Montpellier,  Interactions Hôtes-Pathogènes-Environnements (IHPE, UMR5244), Place Eugène  Bataillon, 34090 Montpellier cedex, France.\\n', 'AD  - CNRS, Université de Montpellier, Interactions Hôtes-Pathogènes-Environnements (IHPE,  UMR5244), Place Eugène Bataillon, 34090 Montpellier cedex, France Ifremer,  Université de Montpellier, Interactions Hôtes-Pathogènes-Environnements (IHPE,  UMR5244), Place Eugène Bataillon, 34090 Montpellier cedex, France UPVD, Université  de Montpellier, Interactions Hôtes-Pathogènes-Environnements (IHPE, UMR5244), Place  Eugène Bataillon, 34090 Montpellier cedex, France Université de Montpellier,  Interactions Hôtes-Pathogènes-Environnements (IHPE, UMR5244), Place Eugène  Bataillon, 34090 Montpellier cedex, France.\\n', 'AD  - CNRS, Université de Montpellier, Interactions Hôtes-Pathogènes-Environnements (IHPE,  UMR5244), Place Eugène Bataillon, 34090 Montpellier cedex, France Ifremer,  Université de Montpellier, Interactions Hôtes-Pathogènes-Environnements (IHPE,  UMR5244), Place Eugène Bataillon, 34090 Montpellier cedex, France UPVD, Université  de Montpellier, Interactions Hôtes-Pathogènes-Environnements (IHPE, UMR5244), Place  Eugène Bataillon, 34090 Montpellier cedex, France Université de Montpellier,  Interactions Hôtes-Pathogènes-Environnements (IHPE, UMR5244), Place Eugène  Bataillon, 34090 Montpellier cedex, France.\\n', 'AD  - Department of Dermatology, University of California, San Diego, La Jolla, CA 92093,  USA.\\n', 'AD  - Department of Dermatology, University of California, San Diego, La Jolla, CA 92093,  USA. Electronic address:.\\n', 'AD  - Catalysis and Peptide Research Unit, School of Health Sciences, University of  KwaZulu-Natal, Durban, South Africa.\\n', 'AD  - Catalysis and Peptide Research Unit, School of Health Sciences, University of  KwaZulu-Natal, Durban, South Africa.\\n', 'AD  - Catalysis and Peptide Research Unit, School of Health Sciences, University of  KwaZulu-Natal, Durban, South Africa.\\n', 'AD  - School of Chemistry and Physics, University of KwaZulu-Natal, Durban, South Africa.\\n', 'AD  - CIBER-BBN, Networking Centre on Bioengineering, Biomaterials and Nanomedicine,  Barcelona Science Park, Barcelona, Spain.\\n']\n"
     ]
    }
   ],
   "source": [
    "#procedo a eliminar los correros\n",
    "k=0\n",
    "y= len (sinc)\n",
    "sin_correos = [0]*y\n",
    "for z_n in sinc:\n",
    "    bytes(z_n,encoding=\"utf=8\")\n",
    "    z_n= re.sub(r'\\s[\\w._%+-]+@[\\w.-]+\\.[a-zA-Z]{2,4}','', z_n)\n",
    "    sin_correos[k] = (z_n)\n",
    "    k = k+1\n",
    "print (sin_correos[100:200])"
   ]
  },
  {
   "cell_type": "code",
   "execution_count": 11,
   "id": "b62a9fe8-d4cf-4c94-8af8-2a4230b1847f",
   "metadata": {},
   "outputs": [
    {
     "name": "stdout",
     "output_type": "stream",
     "text": [
      "['  Italy.\\n', ' Italy.\\n', ' Italy.\\n', '  USA.\\n', ' China.\\n', ' China.\\n', ' China.\\n', ' South Africa..\\n', ' South Africa..\\n', ' South Africa..\\n', ' South Africa..\\n', ' México.\\n', ' USA.\\n', ' United States..\\n', ' United States.\\n', '  United States.\\n', '  United States.\\n', '  United States.\\n', ' United States.\\n', ' Italy.\\n', ' Italy.\\n', ' Italy.\\n', '  France.\\n', ' Italy.\\n', ' France.\\n', ' France.\\n', ' Portugal.\\n', ' India.\\n', ' India.\\n', ' India.\\n', ' Brazil.\\n', ' Brazil.\\n', ' Brazil.\\n', ' Brazil.\\n', ' Brazil.\\n', ' Brazil.\\n', ' Brazil .\\n', ' Brazil.\\n', '  Brazil.\\n', '  Brazil.\\n', ' Germany.\\n', ' Germany.\\n', ' Germany.\\n', ' Germany.\\n', ' Mexico.\\n', ' Mexico.\\n', ' Iran.\\n', ' Iran.\\n', ' Iran.\\n', ' Iran.\\n', '  Croatia.\\n', '  Croatia.\\n', '  Croatia.\\n', ' Italy.\\n', ' Viet  Nam.\\n', ' Viet  Nam.\\n', ' Viet Nam.\\n', ' Brazil. \\n', ' USA.\\n', ' USA.\\n', ' USA.\\n', ' USA.\\n', ' USA.\\n', ' USA..\\n', ' India.\\n', ' India.\\n', ' India.\\n', ' India.\\n', ' India.\\n', ' India.\\n', ' India.\\n', ' India.\\n', '  Australia.\\n', ' Australia.\\n', ' Australia.\\n', ' Australia.\\n', ' Australia.\\n', ' Australia.\\n', '  Australia.\\n', '  Australia.\\n', ' United States.\\n', ' United States.\\n', ' United States.\\n', ' United States.\\n', ' United States.\\n', ' France.\\n', ' Brazil.\\n', '  Chile.\\n', ' Brazil.\\n', ' French Polynesia.\\n', ' France.\\n', ' France.\\n', ' France.\\n', '  USA.\\n', '  USA.\\n', ' South Africa.\\n', ' South Africa.\\n', ' South Africa.\\n', ' South Africa.\\n', ' Spain.\\n']\n"
     ]
    }
   ],
   "source": [
    "\n",
    "#Elimino los las palabras que contengan el elemento Electronico y Email \n",
    "a= len (sin_correos)\n",
    "b= 0 \n",
    "AD= [0]*a\n",
    "for j in sin_correos:\n",
    "    bytes(j, encoding=\"utf8\")\n",
    "    sa = re.sub(r'\\s+[Eceinlort]{10}\\s+[aders]{7}.*','',j)\n",
    "    ADs= re.sub (r'.*\\,','',sa)\n",
    "    AD[b] = ADs\n",
    "    b= b+1\n",
    "print (AD[100:200])"
   ]
  },
  {
   "cell_type": "code",
   "execution_count": 33,
   "id": "5dd61f70-6971-4687-9fc8-df3d12acf186",
   "metadata": {},
   "outputs": [
    {
     "name": "stdout",
     "output_type": "stream",
     "text": [
      "[',Italy.\\n', ',Italy.\\n', ',Italy.\\n', ',USA.\\n', ',China.\\n', ',China.\\n', ',China.\\n', ',South Africa.\\n', ',South Africa.\\n', ',South Africa.\\n', ',South Africa.\\n', ',México.\\n', ',USA.\\n', ',United States.\\n', ',United States.\\n', ',United States.\\n', ',United States.\\n', ',United States.\\n', ',United States.\\n', ',Italy.\\n', ',Italy.\\n', ',Italy.\\n', ',France.\\n', ',Italy.\\n', ',France.\\n', ',France.\\n', ',Portugal.\\n', ',India.\\n', ',India.\\n', ',India.\\n', ',Brazil.\\n', ',Brazil.\\n', ',Brazil.\\n', ',Brazil.\\n', ',Brazil.\\n', ',Brazil.\\n', ',Brazil .\\n', ',Brazil.\\n', ',Brazil.\\n', ',Brazil.\\n', ',Germany.\\n', ',Germany.\\n', ',Germany.\\n', ',Germany.\\n', ',Mexico.\\n', ',Mexico.\\n', ',Iran.\\n', ',Iran.\\n', ',Iran.\\n', ',Iran.\\n', ',Croatia.\\n', ',Croatia.\\n', ',Croatia.\\n', ',Italy.\\n', ',Viet,Nam.\\n', ',Viet,Nam.\\n', ',Viet Nam.\\n', ',Brazil.,', ',USA.\\n', ',USA.\\n', ',USA.\\n', ',USA.\\n', ',USA.\\n', ',USA.\\n', ',India.\\n', ',India.\\n', ',India.\\n', ',India.\\n', ',India.\\n', ',India.\\n', ',India.\\n', ',India.\\n', ',Australia.\\n', ',Australia.\\n', ',Australia.\\n', ',Australia.\\n', ',Australia.\\n', ',Australia.\\n', ',Australia.\\n', ',Australia.\\n', ',United States.\\n', ',United States.\\n', ',United States.\\n', ',United States.\\n', ',United States.\\n', ',France.\\n', ',Brazil.\\n', ',Chile.\\n', ',Brazil.\\n', ',French Polynesia.\\n', ',France.\\n', ',France.\\n', ',France.\\n', ',USA.\\n', ',USA.\\n', ',South Africa.\\n', ',South Africa.\\n', ',South Africa.\\n', ',South Africa.\\n', ',Spain.\\n']\n"
     ]
    }
   ],
   "source": [
    "#Elimino los caracteres que no me interesan \n",
    "f= len (AD)\n",
    "g= 0 \n",
    "sinm= [0]*f\n",
    "for t in AD:\n",
    "    bytes(t, encoding=\"utf8\")\n",
    "    la = re.sub(r'\\,\\s','',t)\n",
    "    las= re.sub (r'\\s\\s',',',la)\n",
    "    lash= re.sub (r'\\.\\.','.',las)\n",
    "    ms= re.sub(r'^\\s',',',lash)\n",
    "    sinm[g] = ms\n",
    "    g= g+1\n",
    "print (sinm[100:200])"
   ]
  },
  {
   "cell_type": "code",
   "execution_count": 34,
   "id": "52d1dff5-c0cc-4ce0-9f6f-c0e8fc93f882",
   "metadata": {},
   "outputs": [
    {
     "name": "stdout",
     "output_type": "stream",
     "text": [
      "[',Italy.', ',Italy.', ',Italy.', ',USA.', ',China.', ',China.', ',China.', ',South Africa.', ',South Africa.', ',South Africa.', ',South Africa.', ',México.', ',USA.', ',United States.', ',United States.', ',United States.', ',United States.', ',United States.', ',United States.', ',Italy.', ',Italy.', ',Italy.', ',France.', ',Italy.', ',France.', ',France.', ',Portugal.', ',India.', ',India.', ',India.', ',Brazil.', ',Brazil.', ',Brazil.', ',Brazil.', ',Brazil.', ',Brazil.', ',Brazil .', ',Brazil.', ',Brazil.', ',Brazil.', ',Germany.', ',Germany.', ',Germany.', ',Germany.', ',Mexico.', ',Mexico.', ',Iran.', ',Iran.', ',Iran.', ',Iran.', ',Croatia.', ',Croatia.', ',Croatia.', ',Italy.', ',Viet,Nam.', ',Viet,Nam.', ',Viet Nam.', ',Brazil.', ',USA.', ',USA.', ',USA.', ',USA.', ',USA.', ',USA.', ',India.', ',India.', ',India.', ',India.', ',India.', ',India.', ',India.', ',India.', ',Australia.', ',Australia.', ',Australia.', ',Australia.', ',Australia.', ',Australia.', ',Australia.', ',Australia.', ',United States.', ',United States.', ',United States.', ',United States.', ',United States.', ',France.', ',Brazil.', ',Chile.', ',Brazil.', ',French Polynesia.', ',France.', ',France.', ',France.', ',USA.', ',USA.', ',South Africa.', ',South Africa.', ',South Africa.', ',South Africa.', ',Spain.']\n"
     ]
    }
   ],
   "source": [
    "w= len (sinm)\n",
    "moni= []\n",
    "for n in sinm:\n",
    "    bytes(n, encoding=\"utf8\")\n",
    "    a= re.findall(r'\\,.*\\.',n)\n",
    "    moni.extend(a)\n",
    "print (moni[100:200])\n",
    "    "
   ]
  },
  {
   "cell_type": "code",
   "execution_count": 36,
   "id": "42349b63-e863-4ba4-a2fd-43c6075ffa6e",
   "metadata": {},
   "outputs": [
    {
     "name": "stdout",
     "output_type": "stream",
     "text": [
      "['Italy', 'Italy', 'Italy', 'USA', 'China', 'China', 'China', 'South Africa', 'South Africa', 'South Africa', 'South Africa', 'México', 'USA', 'United States', 'United States', 'United States', 'United States', 'United States', 'United States', 'Italy', 'Italy', 'Italy', 'France', 'Italy', 'France', 'France', 'Portugal', 'India', 'India', 'India', 'Brazil', 'Brazil', 'Brazil', 'Brazil', 'Brazil', 'Brazil', 'Brazil ', 'Brazil', 'Brazil', 'Brazil', 'Germany', 'Germany', 'Germany', 'Germany', 'Mexico', 'Mexico', 'Iran', 'Iran', 'Iran', 'Iran', 'Croatia', 'Croatia', 'Croatia', 'Italy', 'VietNam', 'VietNam', 'Viet Nam', 'Brazil', 'USA', 'USA', 'USA', 'USA', 'USA', 'USA', 'India', 'India', 'India', 'India', 'India', 'India', 'India', 'India', 'Australia', 'Australia', 'Australia', 'Australia', 'Australia', 'Australia', 'Australia', 'Australia', 'United States', 'United States', 'United States', 'United States', 'United States', 'France', 'Brazil', 'Chile', 'Brazil', 'French Polynesia', 'France', 'France', 'France', 'USA', 'USA', 'South Africa', 'South Africa', 'South Africa', 'South Africa', 'Spain']\n"
     ]
    }
   ],
   "source": [
    "\n",
    "y= len (moni)\n",
    "q= 0 \n",
    "sinml= [0]*y\n",
    "for ele in moni:\n",
    "    bytes(ele, encoding=\"utf8\")\n",
    "    al = re.sub(r'\\,','',ele)\n",
    "    zt= re.sub (r'\\.','',al)   \n",
    "    sinml[q] = zt\n",
    "    q= q+1\n",
    "print (sinml[100:200])"
   ]
  },
  {
   "cell_type": "code",
   "execution_count": 37,
   "id": "1e7280db-a111-4766-bde8-cf0af84e91ef",
   "metadata": {},
   "outputs": [
    {
     "ename": "SyntaxError",
     "evalue": "invalid syntax (Temp/ipykernel_15100/1612908647.py, line 14)",
     "output_type": "error",
     "traceback": [
      "\u001b[1;36m  File \u001b[1;32m\"C:\\Users\\User\\AppData\\Local\\Temp/ipykernel_15100/1612908647.py\"\u001b[1;36m, line \u001b[1;32m14\u001b[0m\n\u001b[1;33m    'WS','XK','YE','YT','ZA','ZM','ZW', 'Andorra','United Arab Emirates','Afghanistan','Antigua and Barbuda','Anguilla','Albania','Armenia','Netherlands Antilles','Angola','Antarctica','Argentina','American Samoa','Austria','Australia','Aruba','Azerbaijan','Bosnia and Herzegovina','Barbados','Bangladesh','Belgium','Burkina Faso','Bulgaria','Bahrain','Burundi','Benin','Bermuda','Brunei','Bolivia','Brazil','Bahamas','Bhutan','Bouvet Island','Botswana','Belarus','Belize','Canada','Cocos [Keeling] Islands','Congo [DRC]','Central African Republic','Congo [Republic]','Switzerland','Côte d'Ivoire','Cook Islands','Chile','Cameroon','China','Colombia','Costa Rica','Cuba','Cape Verde','Christmas Island','Cyprus','Czech Republic','Germany','Djibouti','Denmark','Dominica','Dominican Republic','Algeria','Ecuador','Estonia','Egypt','Western Sahara','Eritrea','Spain','Ethiopia','Finland','Fiji','Falkland Islands [Islas Malvinas]','Micronesia','Faroe Islands','France','Gabon','United Kingdom','Grenada','Georgia','French Guiana','Guernsey','Ghana','Gibraltar','Greenland','Gambia','Guinea','Guadeloupe','Equatorial Guinea','Greece','South Georgia and the South Sandwich Islands','Guatemala','Guam','Guinea-Bissau','Guyana','Gaza Strip','Hong Kong','Heard Island and McDonald Islands','Honduras','Croatia','Haiti','Hungary','Indonesia','Ireland','Israel','Isle of Man','India','British Indian Ocean Territory','Iraq','Iran','Iceland','Italy','Jersey','Jamaica','Jordan','Japan','Kenya','Kyrgyzstan','Cambodia','Kiribati','Comoros','Saint Kitts and Nevis','North Korea','South Korea','Kuwait','Cayman Islands','Kazakhstan','Laos','Lebanon','Saint Lucia','Liechtenstein','Sri Lanka','Liberia','Lesotho','Lithuania','Luxembourg','Latvia','Libya','Morocco','Monaco','Moldova','Montenegro','Madagascar','Marshall Islands','Macedonia [FYROM]','Mali','Myanmar [Burma]','Mongolia','Macau','Northern Mariana Islands','Martinique','Mauritania','Montserrat','Malta','Mauritius','Maldives','Malawi','Mexico','Malaysia','Mozambique','Namibia','New Caledonia','Niger','Norfolk Island','Nigeria','Nicaragua','Netherlands','Norway','Nepal','Nauru','Niue','New Zealand','Oman','Panama','Peru','French Polynesia','Papua New Guinea','Philippines','Pakistan','Poland','Saint Pierre and Miquelon','Pitcairn Islands','Puerto Rico','Palestinian Territories','Portugal','Palau','Paraguay','Qatar','Réunion','Romania','Serbia','Russia','Rwanda','Saudi Arabia','Solomon Islands','Seychelles','Sudan','Sweden','Singapore','Saint Helena','Slovenia','Svalbard and Jan Mayen','Slovakia','Sierra Leone','San Marino','Senegal','Somalia','Suriname','São Tomé and Príncipe','El Salvador','Syria','Swaziland','Turks and Caicos Islands','Chad','French Southern Territories','Togo','Thailand','Tajikistan','Tokelau','Timor-Leste','Turkmenistan','Tunisia','Tonga','Turkey','Trinidad and Tobago','Tuvalu','Taiwan','Tanzania','Ukraine','Uganda','U.S. Minor Outlying Islands','United States','Uruguay','Uzbekistan','Vatican City','Saint Vincent and the Grenadines','Venezuela','British Virgin Islands','U.S. Virgin Islands','Vietnam','Vanuatu','Wallis and Futuna','Samoa','Kosovo','Yemen','Mayotte','South Africa','Zambia','Zimbabwe'\u001b[0m\n\u001b[1;37m                                                                                                                                                                                                                                                                                                                                                                                                                                                                                                                                                                                                              ^\u001b[0m\n\u001b[1;31mSyntaxError\u001b[0m\u001b[1;31m:\u001b[0m invalid syntax\n"
     ]
    }
   ],
   "source": [
    "sinml=countriesf\n",
    "f=['AD','AE','AF','AG','AI','AL','AM','AN','AO','AQ','AR','AS','AT','AU','AW','AZ','BA','BB','BD','BE',\n",
    "   'BF','BG','BH','BI','BJ','BM','BN','BO','BR','BS','BT','BV','BW','BY','BZ','CA','CC','CD','CF','CG',\n",
    "   'CH','CI','CK','CL','CM','CN','CO','CR','CU','CV','CX','CY','CZ','DE','DJ','K','DM','DO','DZ','EC',\n",
    "   'EE','EG','EH','ER','ES','ET','FI','FJ','FK','FM','FO','FR','GA','GB','GD','GE','GF','GG','GH',\n",
    "   'GI','GL','GM','GN','GP','GQ','GR','GS','GT','GU','GW','GY','GZ','HK','HM','HN','HR','HT','HU',\n",
    "   'ID','IE','IL','IM','IN','IO','IQ','IR','IS','IT','JE','JM','JO','JP','KE','KG','KH','KI','KM','KN',\n",
    "   'KP','KR','KW','KY','KZ','LA','LB','LC','LI','LK','LR','LS','LT','LU','LV','LY','MA','MC','MD','ME',\n",
    "   'MG','MH','MK','ML','MM','MN','MO','MP','MQ','MR','MS','MT','MU','MV','MW','MX','MY','MZ','NA','NC',\n",
    "   'NE','NF','NG','NI','NL','NO','NP','NR','NU','NZ','OM','PA','PE','PF','PG','PH','PK','PL','PM','PN',\n",
    "   'PR','PS','PT','PW','PY','QA','RE','RO','RS','RU','RW','SA','SB','SC','SD','SE','SG','SH','SI','SJ',\n",
    "   'SK','SL','SM','SN','SO','SR','ST','SV','SY','SZ','TC','TD','TF','TG','TH','TJ','TK','TL','TM','TN',\n",
    "   'TO','TR','TT','TV','TW','TZ','UA','UG','UM','US','UY','UZ','VA','VC','VE','VG','VI','VN','VU','WF',\n",
    "   'WS','XK','YE','YT','ZA','ZM','ZW', 'Andorra','United Arab Emirates','Afghanistan',\n",
    "   'Antigua and Barbuda','Anguilla','Albania','Armenia','Netherlands Antilles','Angola',\n",
    "   'Antarctica','Argentina','American Samoa','Austria','Australia','Aruba','Azerbaijan',\n",
    "   'Bosnia and Herzegovina','Barbados','Bangladesh','Belgium','Burkina Faso','Bulgaria',\n",
    "   'Bahrain','Burundi','Benin','Bermuda','Brunei','Bolivia','Brazil','Bahamas','Bhutan',\n",
    "   'Bouvet Island','Botswana','Belarus','Belize','Canada','Cocos [Keeling] Islands',\n",
    "   'Congo [DRC]','Central African Republic','Congo [Republic]','Switzerland','Côte dIvoire',\n",
    "   'Cook Islands','Chile','Cameroon','China','Colombia','Costa Rica','Cuba','Cape Verde',\n",
    "   'Christmas Island','Cyprus','Czech Republic','Germany','Djibouti','Denmark','Dominica',\n",
    "   'Dominican Republic','Algeria','Ecuador','Estonia','Egypt','Western Sahara','Eritrea',\n",
    "   'Spain','Ethiopia','Finland','Fiji','Falkland Islands [Islas Malvinas]','Micronesia',\n",
    "   'Faroe Islands','France','Gabon','United Kingdom','Grenada','Georgia','French Guiana',\n",
    "   'Guernsey','Ghana','Gibraltar','Greenland','Gambia','Guinea','Guadeloupe','Equatorial Guinea',\n",
    "   'Greece','South Georgia and the South Sandwich Islands','Guatemala','Guam','Guinea-Bissau',\n",
    "   'Guyana','Gaza Strip','Hong Kong','Heard Island and McDonald Islands','Honduras','Croatia',\n",
    "   'Haiti','Hungary','Indonesia','Ireland','Israel','Isle of Man','India',\n",
    "   'British Indian Ocean Territory','Iraq','Iran','Iceland','Italy','Jersey','Jamaica','Jordan',\n",
    "   'Japan','Kenya','Kyrgyzstan','Cambodia','Kiribati','Comoros','Saint Kitts and Nevis',\n",
    "   'North Korea','South Korea','Kuwait','Cayman Islands','Kazakhstan','Laos','Lebanon','Saint Lucia',\n",
    "   'Liechtenstein','Sri Lanka','Liberia','Lesotho','Lithuania','Luxembourg','Latvia','Libya','Morocco',\n",
    "   'Monaco','Moldova','Montenegro','Madagascar','Marshall Islands','Macedonia [FYROM]','Mali',\n",
    "   'Myanmar [Burma]','Mongolia','Macau','Northern Mariana Islands','Martinique','Mauritania',\n",
    "   'Montserrat','Malta','Mauritius','Maldives','Malawi','Mexico','Malaysia','Mozambique',\n",
    "   'Namibia','New Caledonia','Niger','Norfolk Island','Nigeria','Nicaragua','Netherlands',\n",
    "   'Norway','Nepal','Nauru','Niue','New Zealand','Oman','Panama','Peru','French Polynesia',\n",
    "   'Papua New Guinea','Philippines','Pakistan','Poland','Saint Pierre and Miquelon',\n",
    "   'Pitcairn Islands','Puerto Rico','Palestinian Territories','Portugal','Palau','Paraguay',\n",
    "   'Qatar','Réunion','Romania','Serbia','Russia','Rwanda','Saudi Arabia','Solomon Islands',\n",
    "   'Seychelles','Sudan','Sweden','Singapore','Saint Helena','Slovenia','Svalbard and Jan Mayen',\n",
    "   'Slovakia','Sierra Leone','San Marino','Senegal','Somalia','Suriname','São Tomé and Príncipe',\n",
    "   'El Salvador','Syria','Swaziland','Turks and Caicos Islands','Chad','French Southern Territories','Togo','Thailand','Tajikistan','Tokelau','Timor-Leste','Turkmenistan','Tunisia','Tonga','Turkey','Trinidad and Tobago','Tuvalu','Taiwan','Tanzania','Ukraine','Uganda','U.S. Minor Outlying Islands','United States','Uruguay','Uzbekistan','Vatican City','Saint Vincent and the Grenadines','Venezuela','British Virgin Islands','U.S. Virgin Islands','Vietnam','Vanuatu','Wallis and Futuna','Samoa','Kosovo','Yemen','Mayotte','South Africa','Zambia','Zimbabwe'\n",
    "]\n",
    "i=len(f)\n",
    "h=[0]*i\n",
    "k=0\n",
    "for elem in f:\n",
    "    d=0\n",
    "    for comp in g:\n",
    "        if elem == str(comp):\n",
    "            d=d+1\n",
    "    h[k]=d\n",
    "    k=k+1\n",
    "print (h)"
   ]
  },
  {
   "cell_type": "code",
   "execution_count": null,
   "id": "0f361770-67ef-42e8-acea-872d3b922d19",
   "metadata": {},
   "outputs": [],
   "source": []
  }
 ],
 "metadata": {
  "kernelspec": {
   "display_name": "Python 3 (ipykernel)",
   "language": "python",
   "name": "python3"
  },
  "language_info": {
   "codemirror_mode": {
    "name": "ipython",
    "version": 3
   },
   "file_extension": ".py",
   "mimetype": "text/x-python",
   "name": "python",
   "nbconvert_exporter": "python",
   "pygments_lexer": "ipython3",
   "version": "3.9.7"
  }
 },
 "nbformat": 4,
 "nbformat_minor": 5
}
